{
 "cells": [
  {
   "metadata": {
    "ExecuteTime": {
     "end_time": "2025-03-24T10:42:34.722874Z",
     "start_time": "2025-03-24T10:42:30.433854Z"
    }
   },
   "cell_type": "code",
   "source": [
    "import os\n",
    "\n",
    "from src.config.spark import get_spark_session\n",
    "from src.extract.extract_src_data import extract_src_db, extract_src_csv\n",
    "\n",
    "# Set Hadoop home dynamically in Python\n",
    "PARENT_DIR = os.getcwd()\n",
    "HADOOP_PATH = os.path.join(PARENT_DIR, \"library/hadoop\")\n",
    "POSTGRES_DRIVER_PATH = os.path.join(PARENT_DIR, \"library/postgre/postgresql-42.7.5.jar\")\n",
    "\n",
    "os.environ[\"HADOOP_HOME\"] = HADOOP_PATH\n",
    "os.environ[\"PATH\"] += os.pathsep + os.path.join(HADOOP_PATH, \"bin\")"
   ],
   "id": "7e37651919681181",
   "outputs": [],
   "execution_count": 2
  },
  {
   "metadata": {
    "ExecuteTime": {
     "end_time": "2025-03-24T10:43:01.687320Z",
     "start_time": "2025-03-24T10:42:34.733854Z"
    }
   },
   "cell_type": "code",
   "source": [
    "spark_session = get_spark_session(\"week6-warehouse-pipeline\", POSTGRES_DRIVER_PATH)\n",
    "spark_session.conf.set(\"spark.sql.legacy.timeParserPolicy\", \"LEGACY\")"
   ],
   "id": "1f27681b278d976a",
   "outputs": [],
   "execution_count": 3
  },
  {
   "metadata": {
    "ExecuteTime": {
     "end_time": "2025-03-24T10:43:01.734775Z",
     "start_time": "2025-03-24T10:43:01.720775Z"
    }
   },
   "cell_type": "code",
   "source": "spark_session",
   "id": "41e2022199e4077f",
   "outputs": [
    {
     "data": {
      "text/plain": [
       "<pyspark.sql.session.SparkSession at 0x155db742c80>"
      ],
      "text/html": [
       "\n",
       "            <div>\n",
       "                <p><b>SparkSession - in-memory</b></p>\n",
       "                \n",
       "        <div>\n",
       "            <p><b>SparkContext</b></p>\n",
       "\n",
       "            <p><a href=\"http://Rian:4040\">Spark UI</a></p>\n",
       "\n",
       "            <dl>\n",
       "              <dt>Version</dt>\n",
       "                <dd><code>v3.5.5</code></dd>\n",
       "              <dt>Master</dt>\n",
       "                <dd><code>local[*]</code></dd>\n",
       "              <dt>AppName</dt>\n",
       "                <dd><code>week6-warehouse-pipeline</code></dd>\n",
       "            </dl>\n",
       "        </div>\n",
       "        \n",
       "            </div>\n",
       "        "
      ]
     },
     "execution_count": 4,
     "metadata": {},
     "output_type": "execute_result"
    }
   ],
   "execution_count": 4
  },
  {
   "metadata": {
    "ExecuteTime": {
     "end_time": "2025-03-24T10:43:05.822544Z",
     "start_time": "2025-03-24T10:43:01.753773Z"
    }
   },
   "cell_type": "code",
   "source": [
    "df = extract_src_db(spark_session, \"marital_status\")\n",
    "df.show(10)"
   ],
   "id": "9778cb91e9bcd48e",
   "outputs": [
    {
     "name": "stdout",
     "output_type": "stream",
     "text": [
      "+----------+--------+--------------------+--------------------+\n",
      "|marital_id|   value|          created_at|          updated_at|\n",
      "+----------+--------+--------------------+--------------------+\n",
      "|         1| married|2025-02-28 15:31:...|2025-02-28 15:31:...|\n",
      "|         2|  single|2025-02-28 15:31:...|2025-02-28 15:31:...|\n",
      "|         3|divorced|2025-02-28 15:31:...|2025-02-28 15:31:...|\n",
      "+----------+--------+--------------------+--------------------+\n",
      "\n"
     ]
    }
   ],
   "execution_count": 5
  },
  {
   "metadata": {
    "ExecuteTime": {
     "end_time": "2025-03-24T10:43:06.026190Z",
     "start_time": "2025-03-24T10:43:05.858443Z"
    }
   },
   "cell_type": "code",
   "source": [
    "df = extract_src_db(spark_session, \"education_status\")\n",
    "df.show(10)"
   ],
   "id": "112ae9fa3eeacac2",
   "outputs": [
    {
     "name": "stdout",
     "output_type": "stream",
     "text": [
      "+------------+---------+--------------------+--------------------+\n",
      "|education_id|    value|          created_at|          updated_at|\n",
      "+------------+---------+--------------------+--------------------+\n",
      "|           1| tertiary|2025-02-28 15:31:...|2025-02-28 15:31:...|\n",
      "|           2|secondary|2025-02-28 15:31:...|2025-02-28 15:31:...|\n",
      "|           3|  unknown|2025-02-28 15:31:...|2025-02-28 15:31:...|\n",
      "|           4|  primary|2025-02-28 15:31:...|2025-02-28 15:31:...|\n",
      "+------------+---------+--------------------+--------------------+\n",
      "\n"
     ]
    }
   ],
   "execution_count": 6
  },
  {
   "metadata": {
    "ExecuteTime": {
     "end_time": "2025-03-24T10:43:06.463890Z",
     "start_time": "2025-03-24T10:43:06.057218Z"
    }
   },
   "cell_type": "code",
   "source": [
    "df = extract_src_db(spark_session, \"marketing_campaign_deposit\")\n",
    "df.show(10)"
   ],
   "id": "1a10ec09da53715a",
   "outputs": [
    {
     "name": "stdout",
     "output_type": "stream",
     "text": [
      "+------------+---+------------+----------+------------+-------+-------+-------+-----+-------+---+-----+--------+--------+-----+--------+--------+------------------+--------------------+--------------------+\n",
      "|loan_data_id|age|         job|marital_id|education_id|default|balance|housing| loan|contact|day|month|duration|campaign|pdays|previous|poutcome|subscribed_deposit|          created_at|          updated_at|\n",
      "+------------+---+------------+----------+------------+-------+-------+-------+-----+-------+---+-----+--------+--------+-----+--------+--------+------------------+--------------------+--------------------+\n",
      "|           1| 58|  management|         1|           1|  false|  $2143|   true|false|unknown|  5|  may|     261|       1|   -1|       0| unknown|             false|2025-02-28 15:59:...|2025-02-28 15:59:...|\n",
      "|           2| 44|  technician|         2|           2|  false|    $29|   true|false|unknown|  5|  may|     151|       1|   -1|       0| unknown|             false|2025-02-28 15:59:...|2025-02-28 15:59:...|\n",
      "|           3| 33|entrepreneur|         1|           2|  false|     $2|   true| true|unknown|  5|  may|      76|       1|   -1|       0| unknown|             false|2025-02-28 15:59:...|2025-02-28 15:59:...|\n",
      "|           4| 47| blue-collar|         1|           3|  false|  $1506|   true|false|unknown|  5|  may|      92|       1|   -1|       0| unknown|             false|2025-02-28 15:59:...|2025-02-28 15:59:...|\n",
      "|           5| 33|     unknown|         2|           3|  false|     $1|  false|false|unknown|  5|  may|     198|       1|   -1|       0| unknown|             false|2025-02-28 15:59:...|2025-02-28 15:59:...|\n",
      "|           6| 35|  management|         1|           1|  false|   $231|   true|false|unknown|  5|  may|     139|       1|   -1|       0| unknown|             false|2025-02-28 15:59:...|2025-02-28 15:59:...|\n",
      "|           7| 28|  management|         2|           1|  false|   $447|   true| true|unknown|  5|  may|     217|       1|   -1|       0| unknown|             false|2025-02-28 15:59:...|2025-02-28 15:59:...|\n",
      "|           8| 42|entrepreneur|         3|           1|   true|     $2|   true|false|unknown|  5|  may|     380|       1|   -1|       0| unknown|             false|2025-02-28 15:59:...|2025-02-28 15:59:...|\n",
      "|           9| 58|     retired|         1|           4|  false|   $121|   true|false|unknown|  5|  may|      50|       1|   -1|       0| unknown|             false|2025-02-28 15:59:...|2025-02-28 15:59:...|\n",
      "|          10| 43|  technician|         2|           2|  false|   $593|   true|false|unknown|  5|  may|      55|       1|   -1|       0| unknown|             false|2025-02-28 15:59:...|2025-02-28 15:59:...|\n",
      "+------------+---+------------+----------+------------+-------+-------+-------+-----+-------+---+-----+--------+--------+-----+--------+--------+------------------+--------------------+--------------------+\n",
      "only showing top 10 rows\n",
      "\n"
     ]
    }
   ],
   "execution_count": 7
  },
  {
   "metadata": {
    "ExecuteTime": {
     "end_time": "2025-03-24T10:43:08.975237Z",
     "start_time": "2025-03-24T10:43:06.512927Z"
    }
   },
   "cell_type": "code",
   "source": [
    "df = extract_src_csv(spark_session, \"data/new_bank_transaction_csv/\")\n",
    "df.show(10)"
   ],
   "id": "c9768d6756436e50",
   "outputs": [
    {
     "name": "stdout",
     "output_type": "stream",
     "text": [
      "+-------------+----------+-----------+----------+------------+------------------+---------------+---------------+-----------------------+\n",
      "|TransactionID|CustomerID|CustomerDOB|CustGender|CustLocation|CustAccountBalance|TransactionDate|TransactionTime|TransactionAmount (INR)|\n",
      "+-------------+----------+-----------+----------+------------+------------------+---------------+---------------+-----------------------+\n",
      "|      T401396|  C1010024|    21/6/65|         M|     KOLKATA|          87058.65|        18/8/16|         141103|                 5000.0|\n",
      "|      T303294|  C1010068|    14/7/76|         M|     GURGAON|          46741.73|        10/8/16|         101617|                  546.0|\n",
      "|      T347496|  C1010081|     1/5/89|         M|   GHAZIABAD|           1584.18|        14/8/16|         144742|                  429.0|\n",
      "|      T329017|C1010081_2|     2/9/77|         F|   PANCHKULA|          23319.04|        15/8/16|         172658|                 1699.0|\n",
      "|      T113706|C1010081_3|    11/2/84|         F|      HOWRAH|             17.71|         6/8/16|         145828|                 2856.0|\n",
      "|      T754840|  C1010085|   1/1/1800|         M|      KHARAR|          319080.2|         1/9/16|         195709|                  225.0|\n",
      "|      T285433|  C1010087|    20/4/90|         M|      MUMBAI|           8346.99|        11/8/16|         122201|                   42.0|\n",
      "|      T260395|  C1010116|    30/1/94|         M|   HYDERABAD|          12299.04|        12/8/16|         184629|                   40.0|\n",
      "|      T749269|  C1010122|     5/9/88|         F|       NOIDA|            312.39|         1/9/16|         214152|                 5090.0|\n",
      "|       T97653|  C1010241|    9/10/85|         F|        PUNE|          27952.37|         1/8/16|         161930|                   22.0|\n",
      "+-------------+----------+-----------+----------+------------+------------------+---------------+---------------+-----------------------+\n",
      "only showing top 10 rows\n",
      "\n"
     ]
    }
   ],
   "execution_count": 8
  },
  {
   "metadata": {
    "ExecuteTime": {
     "end_time": "2025-03-24T10:43:19.171121Z",
     "start_time": "2025-03-24T10:43:09.009239Z"
    }
   },
   "cell_type": "code",
   "source": [
    "new_df = df.select(\"CustomerID\").distinct().count()\n",
    "print(new_df)"
   ],
   "id": "abc372fc8ce355f0",
   "outputs": [
    {
     "name": "stdout",
     "output_type": "stream",
     "text": [
      "1048567\n"
     ]
    }
   ],
   "execution_count": 9
  },
  {
   "metadata": {
    "ExecuteTime": {
     "end_time": "2025-03-24T10:43:19.488505Z",
     "start_time": "2025-03-24T10:43:19.308599Z"
    }
   },
   "cell_type": "code",
   "source": [
    "from pyspark.sql.functions import to_date\n",
    "\n",
    "customers_df = df.select(\"CustomerID\", to_date(\"CustomerDOB\", \"d/M/yy\").alias(\"CustomerDOB\"), \"CustGender\", \"CustLocation\", \"CustAccountBalance\")\n",
    "\n",
    "customers_df.show(10)"
   ],
   "id": "db3ba60eb34d9ff5",
   "outputs": [
    {
     "name": "stdout",
     "output_type": "stream",
     "text": [
      "+----------+-----------+----------+------------+------------------+\n",
      "|CustomerID|CustomerDOB|CustGender|CustLocation|CustAccountBalance|\n",
      "+----------+-----------+----------+------------+------------------+\n",
      "|  C1010024| 1965-06-21|         M|     KOLKATA|          87058.65|\n",
      "|  C1010068| 1976-07-14|         M|     GURGAON|          46741.73|\n",
      "|  C1010081| 1989-05-01|         M|   GHAZIABAD|           1584.18|\n",
      "|C1010081_2| 1977-09-02|         F|   PANCHKULA|          23319.04|\n",
      "|C1010081_3| 1984-02-11|         F|      HOWRAH|             17.71|\n",
      "|  C1010085| 1800-01-01|         M|      KHARAR|          319080.2|\n",
      "|  C1010087| 1990-04-20|         M|      MUMBAI|           8346.99|\n",
      "|  C1010116| 1994-01-30|         M|   HYDERABAD|          12299.04|\n",
      "|  C1010122| 1988-09-05|         F|       NOIDA|            312.39|\n",
      "|  C1010241| 1985-10-09|         F|        PUNE|          27952.37|\n",
      "+----------+-----------+----------+------------+------------------+\n",
      "only showing top 10 rows\n",
      "\n"
     ]
    }
   ],
   "execution_count": 10
  },
  {
   "metadata": {
    "ExecuteTime": {
     "end_time": "2025-03-24T10:43:19.772794Z",
     "start_time": "2025-03-24T10:43:19.548397Z"
    }
   },
   "cell_type": "code",
   "source": [
    "from pyspark.sql.functions import length, col\n",
    "\n",
    "df1 = df.filter(length(col(\"TransactionTime\")) < 6)\n",
    "df1.show(10)"
   ],
   "id": "e866bb51057aa943",
   "outputs": [
    {
     "name": "stdout",
     "output_type": "stream",
     "text": [
      "+-------------+----------+-----------+----------+------------+------------------+---------------+---------------+-----------------------+\n",
      "|TransactionID|CustomerID|CustomerDOB|CustGender|CustLocation|CustAccountBalance|TransactionDate|TransactionTime|TransactionAmount (INR)|\n",
      "+-------------+----------+-----------+----------+------------+------------------+---------------+---------------+-----------------------+\n",
      "|      T454284|C1010414_2|    22/4/88|         M|       DELHI|          21864.53|        21/8/16|          95537|                 2200.0|\n",
      "|       T37993|  C1010616|    26/7/79|         M|       DELHI|            9101.3|        27/9/16|           2619|                  439.0|\n",
      "|     T1044818|  C1010726|    25/7/91|         M|      VALSAD|          12735.85|        18/9/16|          93237|                  220.0|\n",
      "|      T296101|  C1010749|    15/8/98|         M|        VAPI|          56432.62|        10/8/16|          61818|                  210.0|\n",
      "|      T676234|C1010820_2|    20/1/75|         M|      MOHALI|          30698.56|        28/8/16|          61856|                  177.0|\n",
      "|      T133517|  C1011238|    14/4/87|         M|BHUBANESHWAR|         157734.21|         5/8/16|          10555|                   25.0|\n",
      "|         T149|  C1011359|     5/6/94|         M|     CHENNAI|            179.99|         9/8/16|          30619|                  955.0|\n",
      "|      T511139|  C1011620|   17/12/96|         M|    RAMNAGAR|          60590.95|        19/8/16|          53425|                   50.0|\n",
      "|      T376487|  C1011912|    1/11/94|         M|       NOIDA|           3807.55|        13/8/16|           5738|                   50.0|\n",
      "|      T442915|  C1012219|    26/7/90|         M|      MUMBAI|          10545.94|        16/8/16|          21148|                  200.0|\n",
      "+-------------+----------+-----------+----------+------------+------------------+---------------+---------------+-----------------------+\n",
      "only showing top 10 rows\n",
      "\n"
     ]
    }
   ],
   "execution_count": 11
  },
  {
   "metadata": {
    "ExecuteTime": {
     "end_time": "2025-03-24T10:43:19.820800Z",
     "start_time": "2025-03-24T10:43:19.815803Z"
    }
   },
   "cell_type": "code",
   "source": "# spark_session.stop()",
   "id": "5865988130a2937d",
   "outputs": [],
   "execution_count": 12
  }
 ],
 "metadata": {
  "kernelspec": {
   "display_name": "Python 3",
   "language": "python",
   "name": "python3"
  },
  "language_info": {
   "codemirror_mode": {
    "name": "ipython",
    "version": 2
   },
   "file_extension": ".py",
   "mimetype": "text/x-python",
   "name": "python",
   "nbconvert_exporter": "python",
   "pygments_lexer": "ipython2",
   "version": "2.7.6"
  }
 },
 "nbformat": 4,
 "nbformat_minor": 5
}
