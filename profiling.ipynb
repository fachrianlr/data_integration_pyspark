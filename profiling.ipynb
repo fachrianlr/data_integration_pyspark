{
 "cells": [
  {
   "cell_type": "code",
   "id": "initial_id",
   "metadata": {
    "collapsed": true,
    "ExecuteTime": {
     "end_time": "2025-03-23T01:21:22.902741Z",
     "start_time": "2025-03-23T01:21:18.064157Z"
    }
   },
   "source": [
    "import os\n",
    "\n",
    "from src.config.spark import get_spark_session\n",
    "from src.extract.extract_src_data import extract_src_db, extract_src_csv\n",
    "\n",
    "# Set Hadoop home dynamically in Python\n",
    "PARENT_DIR = os.getcwd()\n",
    "HADOOP_PATH = os.path.join(PARENT_DIR, \"library/hadoop\")\n",
    "POSTGRES_DRIVER_PATH = os.path.join(PARENT_DIR, \"library/postgre/postgresql-42.7.5.jar\")\n",
    "\n",
    "os.environ[\"HADOOP_HOME\"] = HADOOP_PATH\n",
    "os.environ[\"PATH\"] += os.pathsep + os.path.join(HADOOP_PATH, \"bin\")"
   ],
   "outputs": [],
   "execution_count": 1
  },
  {
   "metadata": {
    "ExecuteTime": {
     "end_time": "2025-03-23T01:21:40.786572Z",
     "start_time": "2025-03-23T01:21:22.916742Z"
    }
   },
   "cell_type": "code",
   "source": "spark_session = get_spark_session(\"week6-profiling\", POSTGRES_DRIVER_PATH)",
   "id": "15df9e149eab50d8",
   "outputs": [],
   "execution_count": 2
  },
  {
   "metadata": {
    "ExecuteTime": {
     "end_time": "2025-03-23T01:21:42.522016Z",
     "start_time": "2025-03-23T01:21:41.166651Z"
    }
   },
   "cell_type": "code",
   "source": [
    "education_status_df = extract_src_db(spark_session, \"education_status\")\n",
    "marital_status_df = extract_src_db(spark_session, \"marital_status\")\n",
    "marketing_campaign_df = extract_src_db(spark_session, \"marketing_campaign_deposit\")"
   ],
   "id": "f1c4493e6f094808",
   "outputs": [],
   "execution_count": 3
  },
  {
   "metadata": {
    "ExecuteTime": {
     "end_time": "2025-03-23T01:21:46.976149Z",
     "start_time": "2025-03-23T01:21:42.588021Z"
    }
   },
   "cell_type": "code",
   "source": [
    "csv_data_df = extract_src_csv(spark_session, \"data/new_bank_transaction_csv/\")\n",
    "csv_data_df.show(5)"
   ],
   "id": "e0656d1c845d1273",
   "outputs": [
    {
     "name": "stdout",
     "output_type": "stream",
     "text": [
      "+-------------+----------+-----------+----------+------------+------------------+---------------+---------------+-----------------------+\n",
      "|TransactionID|CustomerID|CustomerDOB|CustGender|CustLocation|CustAccountBalance|TransactionDate|TransactionTime|TransactionAmount (INR)|\n",
      "+-------------+----------+-----------+----------+------------+------------------+---------------+---------------+-----------------------+\n",
      "|      T401396|  C1010024|    21/6/65|         M|     KOLKATA|          87058.65|        18/8/16|         141103|                 5000.0|\n",
      "|      T303294|  C1010068|    14/7/76|         M|     GURGAON|          46741.73|        10/8/16|         101617|                  546.0|\n",
      "|      T347496|  C1010081|     1/5/89|         M|   GHAZIABAD|           1584.18|        14/8/16|         144742|                  429.0|\n",
      "|      T329017|C1010081_2|     2/9/77|         F|   PANCHKULA|          23319.04|        15/8/16|         172658|                 1699.0|\n",
      "|      T113706|C1010081_3|    11/2/84|         F|      HOWRAH|             17.71|         6/8/16|         145828|                 2856.0|\n",
      "+-------------+----------+-----------+----------+------------+------------------+---------------+---------------+-----------------------+\n",
      "only showing top 5 rows\n",
      "\n"
     ]
    }
   ],
   "execution_count": 4
  },
  {
   "metadata": {
    "ExecuteTime": {
     "end_time": "2025-03-23T01:21:47.298153Z",
     "start_time": "2025-03-23T01:21:47.036479Z"
    }
   },
   "cell_type": "code",
   "source": [
    "customers_df = csv_data_df.select(\"CustomerID\", \"CustomerDOB\", \"CustGender\", \"CustLocation\", \"CustAccountBalance\")\n",
    "transactions_df = csv_data_df.select(\"TransactionID\", \"CustomerID\", \"TransactionDate\", \"TransactionTime\", \"TransactionAmount (INR)\")\n",
    "transactions_df.show(5)"
   ],
   "id": "80496f2e6bb3ed37",
   "outputs": [
    {
     "name": "stdout",
     "output_type": "stream",
     "text": [
      "+-------------+----------+---------------+---------------+-----------------------+\n",
      "|TransactionID|CustomerID|TransactionDate|TransactionTime|TransactionAmount (INR)|\n",
      "+-------------+----------+---------------+---------------+-----------------------+\n",
      "|      T401396|  C1010024|        18/8/16|         141103|                 5000.0|\n",
      "|      T303294|  C1010068|        10/8/16|         101617|                  546.0|\n",
      "|      T347496|  C1010081|        14/8/16|         144742|                  429.0|\n",
      "|      T329017|C1010081_2|        15/8/16|         172658|                 1699.0|\n",
      "|      T113706|C1010081_3|         6/8/16|         145828|                 2856.0|\n",
      "+-------------+----------+---------------+---------------+-----------------------+\n",
      "only showing top 5 rows\n",
      "\n"
     ]
    }
   ],
   "execution_count": 5
  },
  {
   "metadata": {
    "ExecuteTime": {
     "end_time": "2025-03-23T01:30:38.948325Z",
     "start_time": "2025-03-23T01:30:35.325124Z"
    }
   },
   "cell_type": "code",
   "source": "transactions_df.show(5)",
   "id": "55ed419d8c4cee04",
   "outputs": [
    {
     "name": "stdout",
     "output_type": "stream",
     "text": [
      "+-------------+----------+---------------+---------------+-----------------------+\n",
      "|TransactionID|CustomerID|TransactionDate|TransactionTime|TransactionAmount (INR)|\n",
      "+-------------+----------+---------------+---------------+-----------------------+\n",
      "|      T401396|  C1010024|        18/8/16|         141103|                 5000.0|\n",
      "|      T303294|  C1010068|        10/8/16|         101617|                  546.0|\n",
      "|      T347496|  C1010081|        14/8/16|         144742|                  429.0|\n",
      "|      T329017|C1010081_2|        15/8/16|         172658|                 1699.0|\n",
      "|      T113706|C1010081_3|         6/8/16|         145828|                 2856.0|\n",
      "+-------------+----------+---------------+---------------+-----------------------+\n",
      "only showing top 5 rows\n",
      "\n",
      "+-------+-------------+----------+---------------+------------------+-----------------------+\n",
      "|summary|TransactionID|CustomerID|TransactionDate|   TransactionTime|TransactionAmount (INR)|\n",
      "+-------+-------------+----------+---------------+------------------+-----------------------+\n",
      "|  count|      1048567|   1048567|        1048567|           1048567|                1048567|\n",
      "|   mean|         NULL|      NULL|           NULL|157087.52939297154|     1574.3350034571072|\n",
      "| stddev|         NULL|      NULL|           NULL|51261.854022329346|         6574.742978454|\n",
      "|    min|           T1|  C1010011|         1/8/16|                 0|                    0.0|\n",
      "|    max|      T999999|  C9099956|         9/9/16|            235959|             1560034.99|\n",
      "+-------+-------------+----------+---------------+------------------+-----------------------+\n",
      "\n"
     ]
    }
   ],
   "execution_count": 6
  }
 ],
 "metadata": {
  "kernelspec": {
   "display_name": "Python 3",
   "language": "python",
   "name": "python3"
  },
  "language_info": {
   "codemirror_mode": {
    "name": "ipython",
    "version": 2
   },
   "file_extension": ".py",
   "mimetype": "text/x-python",
   "name": "python",
   "nbconvert_exporter": "python",
   "pygments_lexer": "ipython2",
   "version": "2.7.6"
  }
 },
 "nbformat": 4,
 "nbformat_minor": 5
}
